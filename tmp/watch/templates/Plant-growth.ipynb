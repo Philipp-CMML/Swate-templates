
        {
            "cells": [
          {
           "cell_type": "markdown",
           "metadata": {},
           
           "source": ["// can\u0027t yet format YamlFrontmatter ([\"title: Plant growth\"; \"category: Templates\"; \"categoryindex: 1\"; \"index: 1\"], Some { StartLine = 2 StartColumn = 0 EndLine = 6 EndColumn = 8 }) to pynb markdown\n",
"\n",
"this is the title: input\n",
"\n",
"mdtext\n",
"\n"]
          }
,
          {
           "cell_type": "code",
           "metadata": {},
            "execution_count": 2, "outputs": [], 
           "source": ["#r \"nuget: FSharp.Formatting\"\n",
"\n",
"open FSharp.Formatting.Common\n",
"open FSharp.Formatting.Markdown\n",
"\n",
"let document = \"\"\"\n",
"# F# Hello world\n",
"Hello world in [F#](http://fsharp.net) looks like this:\n",
"\n",
"    printfn \"Hello world!\"\n",
"\n",
"For more see [fsharp.org][fsorg].\n",
"\n",
"  [fsorg]: http://fsharp.org \"The F# organization.\" \"\"\"\n",
"\n",
"let doc2 = sprintf \"# header\\n%s\\nmore markdown text here.\" show\n",
"\n",
"let parsed = Markdown.Parse(document)\n",
"let parsed2 = Markdown.Parse(doc2)\n",
"\n",
"Markdown.ToFsx(parsed)\n",
"Markdown.ToFsx(parsed2)\n",
"Markdown.ToMd(parsed2)\n",
"\n",
"let html = Markdown.ToHtml(parsed)\n"]
          }],
            "metadata": {
            "kernelspec": {"display_name": ".NET (F#)", "language": "F#", "name": ".net-fsharp"},
            "langauge_info": {
        "file_extension": ".fs",
        "mimetype": "text/x-fsharp",
        "name": "C#",
        "pygments_lexer": "fsharp",
        "version": "4.5"
        }
        },
            "nbformat": 4,
            "nbformat_minor": 1
        }
        

